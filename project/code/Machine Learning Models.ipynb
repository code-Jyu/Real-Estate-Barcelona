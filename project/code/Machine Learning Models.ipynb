{
 "cells": [
  {
   "cell_type": "code",
   "execution_count": 1,
   "metadata": {},
   "outputs": [],
   "source": [
    "import pandas as pd\n",
    "import numpy as np\n",
    "import seaborn as sns\n",
    "import matplotlib.pyplot as plt\n",
    "%matplotlib inline"
   ]
  },
  {
   "cell_type": "code",
   "execution_count": 2,
   "metadata": {},
   "outputs": [],
   "source": [
    "idealista = pd.read_csv('../data/df_idealista_FINAL.csv')"
   ]
  },
  {
   "cell_type": "code",
   "execution_count": 3,
   "metadata": {},
   "outputs": [
    {
     "data": {
      "text/html": [
       "<div>\n",
       "<style scoped>\n",
       "    .dataframe tbody tr th:only-of-type {\n",
       "        vertical-align: middle;\n",
       "    }\n",
       "\n",
       "    .dataframe tbody tr th {\n",
       "        vertical-align: top;\n",
       "    }\n",
       "\n",
       "    .dataframe thead th {\n",
       "        text-align: right;\n",
       "    }\n",
       "</style>\n",
       "<table border=\"1\" class=\"dataframe\">\n",
       "  <thead>\n",
       "    <tr style=\"text-align: right;\">\n",
       "      <th></th>\n",
       "      <th>Unnamed: 0</th>\n",
       "      <th>city</th>\n",
       "      <th>district</th>\n",
       "      <th>neighborhood</th>\n",
       "      <th>condition</th>\n",
       "      <th>type</th>\n",
       "      <th>rooms</th>\n",
       "      <th>area_m2</th>\n",
       "      <th>lift</th>\n",
       "      <th>views</th>\n",
       "      <th>floor</th>\n",
       "      <th>prices</th>\n",
       "    </tr>\n",
       "  </thead>\n",
       "  <tbody>\n",
       "    <tr>\n",
       "      <th>0</th>\n",
       "      <td>0</td>\n",
       "      <td>Barcelona</td>\n",
       "      <td>Eixample</td>\n",
       "      <td>la Dreta de l'Eixample</td>\n",
       "      <td>good condition</td>\n",
       "      <td>Flat</td>\n",
       "      <td>3</td>\n",
       "      <td>351</td>\n",
       "      <td>Yes</td>\n",
       "      <td>exterior</td>\n",
       "      <td>floor 1</td>\n",
       "      <td>2300000</td>\n",
       "    </tr>\n",
       "    <tr>\n",
       "      <th>1</th>\n",
       "      <td>1</td>\n",
       "      <td>Barcelona</td>\n",
       "      <td>Sarrià-Sant Gervasi</td>\n",
       "      <td>Sant Gervasi - Galvany</td>\n",
       "      <td>good condition</td>\n",
       "      <td>Flat</td>\n",
       "      <td>5</td>\n",
       "      <td>298</td>\n",
       "      <td>Yes</td>\n",
       "      <td>exterior</td>\n",
       "      <td>floor 3</td>\n",
       "      <td>1750000</td>\n",
       "    </tr>\n",
       "    <tr>\n",
       "      <th>2</th>\n",
       "      <td>2</td>\n",
       "      <td>Barcelona</td>\n",
       "      <td>Eixample</td>\n",
       "      <td>Sant Antoni</td>\n",
       "      <td>good condition</td>\n",
       "      <td>Penthouse</td>\n",
       "      <td>2</td>\n",
       "      <td>90</td>\n",
       "      <td>Yes</td>\n",
       "      <td>exterior</td>\n",
       "      <td>floor 7</td>\n",
       "      <td>590000</td>\n",
       "    </tr>\n",
       "    <tr>\n",
       "      <th>3</th>\n",
       "      <td>3</td>\n",
       "      <td>Barcelona</td>\n",
       "      <td>Eixample</td>\n",
       "      <td>la Dreta de l'Eixample</td>\n",
       "      <td>good condition</td>\n",
       "      <td>Flat</td>\n",
       "      <td>2</td>\n",
       "      <td>130</td>\n",
       "      <td>Yes</td>\n",
       "      <td>exterior</td>\n",
       "      <td>floor 1</td>\n",
       "      <td>450000</td>\n",
       "    </tr>\n",
       "    <tr>\n",
       "      <th>4</th>\n",
       "      <td>4</td>\n",
       "      <td>Barcelona</td>\n",
       "      <td>Horta-Guinardó</td>\n",
       "      <td>Can Baró</td>\n",
       "      <td>good condition</td>\n",
       "      <td>Terraced</td>\n",
       "      <td>3</td>\n",
       "      <td>110</td>\n",
       "      <td>No</td>\n",
       "      <td>exterior</td>\n",
       "      <td>Multiple</td>\n",
       "      <td>430000</td>\n",
       "    </tr>\n",
       "  </tbody>\n",
       "</table>\n",
       "</div>"
      ],
      "text/plain": [
       "   Unnamed: 0       city             district            neighborhood  \\\n",
       "0           0  Barcelona             Eixample  la Dreta de l'Eixample   \n",
       "1           1  Barcelona  Sarrià-Sant Gervasi  Sant Gervasi - Galvany   \n",
       "2           2  Barcelona             Eixample             Sant Antoni   \n",
       "3           3  Barcelona             Eixample  la Dreta de l'Eixample   \n",
       "4           4  Barcelona       Horta-Guinardó                Can Baró   \n",
       "\n",
       "        condition       type  rooms  area_m2 lift     views     floor   prices  \n",
       "0  good condition       Flat      3      351  Yes  exterior   floor 1  2300000  \n",
       "1  good condition       Flat      5      298  Yes  exterior   floor 3  1750000  \n",
       "2  good condition  Penthouse      2       90  Yes  exterior   floor 7   590000  \n",
       "3  good condition       Flat      2      130  Yes  exterior   floor 1   450000  \n",
       "4  good condition   Terraced      3      110   No  exterior  Multiple   430000  "
      ]
     },
     "execution_count": 3,
     "metadata": {},
     "output_type": "execute_result"
    }
   ],
   "source": [
    "idealista.head()"
   ]
  },
  {
   "cell_type": "code",
   "execution_count": 4,
   "metadata": {},
   "outputs": [],
   "source": [
    "idealista.drop('Unnamed: 0', axis=1, inplace=True)"
   ]
  },
  {
   "cell_type": "code",
   "execution_count": 5,
   "metadata": {},
   "outputs": [
    {
     "data": {
      "text/html": [
       "<div>\n",
       "<style scoped>\n",
       "    .dataframe tbody tr th:only-of-type {\n",
       "        vertical-align: middle;\n",
       "    }\n",
       "\n",
       "    .dataframe tbody tr th {\n",
       "        vertical-align: top;\n",
       "    }\n",
       "\n",
       "    .dataframe thead th {\n",
       "        text-align: right;\n",
       "    }\n",
       "</style>\n",
       "<table border=\"1\" class=\"dataframe\">\n",
       "  <thead>\n",
       "    <tr style=\"text-align: right;\">\n",
       "      <th></th>\n",
       "      <th>city</th>\n",
       "      <th>district</th>\n",
       "      <th>neighborhood</th>\n",
       "      <th>condition</th>\n",
       "      <th>type</th>\n",
       "      <th>rooms</th>\n",
       "      <th>area_m2</th>\n",
       "      <th>lift</th>\n",
       "      <th>views</th>\n",
       "      <th>floor</th>\n",
       "      <th>prices</th>\n",
       "    </tr>\n",
       "  </thead>\n",
       "  <tbody>\n",
       "    <tr>\n",
       "      <th>0</th>\n",
       "      <td>Barcelona</td>\n",
       "      <td>Eixample</td>\n",
       "      <td>la Dreta de l'Eixample</td>\n",
       "      <td>good condition</td>\n",
       "      <td>Flat</td>\n",
       "      <td>3</td>\n",
       "      <td>351</td>\n",
       "      <td>Yes</td>\n",
       "      <td>exterior</td>\n",
       "      <td>floor 1</td>\n",
       "      <td>2300000</td>\n",
       "    </tr>\n",
       "    <tr>\n",
       "      <th>1</th>\n",
       "      <td>Barcelona</td>\n",
       "      <td>Sarrià-Sant Gervasi</td>\n",
       "      <td>Sant Gervasi - Galvany</td>\n",
       "      <td>good condition</td>\n",
       "      <td>Flat</td>\n",
       "      <td>5</td>\n",
       "      <td>298</td>\n",
       "      <td>Yes</td>\n",
       "      <td>exterior</td>\n",
       "      <td>floor 3</td>\n",
       "      <td>1750000</td>\n",
       "    </tr>\n",
       "    <tr>\n",
       "      <th>2</th>\n",
       "      <td>Barcelona</td>\n",
       "      <td>Eixample</td>\n",
       "      <td>Sant Antoni</td>\n",
       "      <td>good condition</td>\n",
       "      <td>Penthouse</td>\n",
       "      <td>2</td>\n",
       "      <td>90</td>\n",
       "      <td>Yes</td>\n",
       "      <td>exterior</td>\n",
       "      <td>floor 7</td>\n",
       "      <td>590000</td>\n",
       "    </tr>\n",
       "    <tr>\n",
       "      <th>3</th>\n",
       "      <td>Barcelona</td>\n",
       "      <td>Eixample</td>\n",
       "      <td>la Dreta de l'Eixample</td>\n",
       "      <td>good condition</td>\n",
       "      <td>Flat</td>\n",
       "      <td>2</td>\n",
       "      <td>130</td>\n",
       "      <td>Yes</td>\n",
       "      <td>exterior</td>\n",
       "      <td>floor 1</td>\n",
       "      <td>450000</td>\n",
       "    </tr>\n",
       "    <tr>\n",
       "      <th>4</th>\n",
       "      <td>Barcelona</td>\n",
       "      <td>Horta-Guinardó</td>\n",
       "      <td>Can Baró</td>\n",
       "      <td>good condition</td>\n",
       "      <td>Terraced</td>\n",
       "      <td>3</td>\n",
       "      <td>110</td>\n",
       "      <td>No</td>\n",
       "      <td>exterior</td>\n",
       "      <td>Multiple</td>\n",
       "      <td>430000</td>\n",
       "    </tr>\n",
       "  </tbody>\n",
       "</table>\n",
       "</div>"
      ],
      "text/plain": [
       "        city             district            neighborhood       condition  \\\n",
       "0  Barcelona             Eixample  la Dreta de l'Eixample  good condition   \n",
       "1  Barcelona  Sarrià-Sant Gervasi  Sant Gervasi - Galvany  good condition   \n",
       "2  Barcelona             Eixample             Sant Antoni  good condition   \n",
       "3  Barcelona             Eixample  la Dreta de l'Eixample  good condition   \n",
       "4  Barcelona       Horta-Guinardó                Can Baró  good condition   \n",
       "\n",
       "        type  rooms  area_m2 lift     views     floor   prices  \n",
       "0       Flat      3      351  Yes  exterior   floor 1  2300000  \n",
       "1       Flat      5      298  Yes  exterior   floor 3  1750000  \n",
       "2  Penthouse      2       90  Yes  exterior   floor 7   590000  \n",
       "3       Flat      2      130  Yes  exterior   floor 1   450000  \n",
       "4   Terraced      3      110   No  exterior  Multiple   430000  "
      ]
     },
     "execution_count": 5,
     "metadata": {},
     "output_type": "execute_result"
    }
   ],
   "source": [
    "idealista.head()"
   ]
  },
  {
   "cell_type": "markdown",
   "metadata": {},
   "source": [
    "### Plotting Correlations (Numerical Variables)"
   ]
  },
  {
   "cell_type": "code",
   "execution_count": 6,
   "metadata": {},
   "outputs": [
    {
     "data": {
      "image/png": "[encoded data removed]",
      "text/plain": [
       "<Figure size 540x540 with 12 Axes>"
      ]
     },
     "metadata": {
      "needs_background": "light"
     },
     "output_type": "display_data"
    }
   ],
   "source": [
    "sns.pairplot(data=idealista)\n",
    "plt.tight_layout()\n",
    "plt.show()"
   ]
  },
  {
   "cell_type": "markdown",
   "metadata": {},
   "source": [
    "### Looking for Collinearity"
   ]
  },
  {
   "cell_type": "code",
   "execution_count": 7,
   "metadata": {},
   "outputs": [
    {
     "data": {
      "image/png": "[encoded data removed]",
      "text/plain": [
       "<Figure size 720x576 with 2 Axes>"
      ]
     },
     "metadata": {
      "needs_background": "light"
     },
     "output_type": "display_data"
    }
   ],
   "source": [
    "plt.figure(figsize=(10,8))\n",
    "sns.heatmap(data=idealista.corr(), annot=True)\n",
    "plt.show()"
   ]
  },
  {
   "cell_type": "markdown",
   "metadata": {},
   "source": [
    "### Predicting House Prices"
   ]
  },
  {
   "cell_type": "code",
   "execution_count": 8,
   "metadata": {},
   "outputs": [
    {
     "data": {
      "text/html": [
       "<div>\n",
       "<style scoped>\n",
       "    .dataframe tbody tr th:only-of-type {\n",
       "        vertical-align: middle;\n",
       "    }\n",
       "\n",
       "    .dataframe tbody tr th {\n",
       "        vertical-align: top;\n",
       "    }\n",
       "\n",
       "    .dataframe thead th {\n",
       "        text-align: right;\n",
       "    }\n",
       "</style>\n",
       "<table border=\"1\" class=\"dataframe\">\n",
       "  <thead>\n",
       "    <tr style=\"text-align: right;\">\n",
       "      <th></th>\n",
       "      <th>district</th>\n",
       "      <th>condition</th>\n",
       "      <th>type</th>\n",
       "      <th>rooms</th>\n",
       "      <th>area_m2</th>\n",
       "      <th>lift</th>\n",
       "      <th>views</th>\n",
       "      <th>prices</th>\n",
       "    </tr>\n",
       "  </thead>\n",
       "  <tbody>\n",
       "    <tr>\n",
       "      <th>0</th>\n",
       "      <td>Eixample</td>\n",
       "      <td>good condition</td>\n",
       "      <td>Flat</td>\n",
       "      <td>3</td>\n",
       "      <td>351</td>\n",
       "      <td>Yes</td>\n",
       "      <td>exterior</td>\n",
       "      <td>2300000</td>\n",
       "    </tr>\n",
       "  </tbody>\n",
       "</table>\n",
       "</div>"
      ],
      "text/plain": [
       "   district       condition  type  rooms  area_m2 lift     views   prices\n",
       "0  Eixample  good condition  Flat      3      351  Yes  exterior  2300000"
      ]
     },
     "execution_count": 8,
     "metadata": {},
     "output_type": "execute_result"
    }
   ],
   "source": [
    "#assigning idealista to df\n",
    "df = idealista.drop(['city','neighborhood','floor'], axis=1)\n",
    "df.head(1)"
   ]
  },
  {
   "cell_type": "code",
   "execution_count": 9,
   "metadata": {},
   "outputs": [],
   "source": [
    "#define X and y (features and target)\n",
    "X = df.drop('prices', axis=1)\n",
    "y = df['prices']"
   ]
  },
  {
   "cell_type": "markdown",
   "metadata": {},
   "source": [
    "### Pre-processing Categorical Features"
   ]
  },
  {
   "cell_type": "code",
   "execution_count": 10,
   "metadata": {},
   "outputs": [],
   "source": [
    "from sklearn.preprocessing import OneHotEncoder\n",
    "from sklearn.preprocessing import OrdinalEncoder\n",
    "from sklearn.compose import ColumnTransformer"
   ]
  },
  {
   "cell_type": "code",
   "execution_count": 11,
   "metadata": {},
   "outputs": [],
   "source": [
    "#Define columns to use\n",
    "ordinal_cols = ['condition']\n",
    "oneHot_cols = ['district','type','lift','views']\n",
    "categ_cols = ordinal_cols + oneHot_cols\n",
    "\n",
    "#Define categories order for ordinal columns\n",
    "condition_cats = ['needs refurb','good condition','new']\n",
    "\n",
    "# Initialize transformers\n",
    "ord_enc = OrdinalEncoder(categories = [condition_cats])\n",
    "oneH = OneHotEncoder(handle_unknown = \"ignore\")\n",
    "\n",
    "# Assemble the \"Column Transformer\"\n",
    "categ_encode_pipeline = ColumnTransformer([\n",
    "    (\"ord_encoder_branch\", ord_enc, ordinal_cols),\n",
    "    (\"oneH_encoder_branch\", oneH, oneHot_cols)])"
   ]
  },
  {
   "cell_type": "markdown",
   "metadata": {},
   "source": [
    "### Fit-Transform Categorical Columns"
   ]
  },
  {
   "cell_type": "code",
   "execution_count": 12,
   "metadata": {},
   "outputs": [],
   "source": [
    "X_cat = categ_encode_pipeline.fit_transform(df[categ_cols])"
   ]
  },
  {
   "cell_type": "code",
   "execution_count": 13,
   "metadata": {},
   "outputs": [
    {
     "data": {
      "text/plain": [
       "array(['x0_Ciutat Vella', 'x0_Eixample', 'x0_Gràcia', 'x0_Horta-Guinardó',\n",
       "       'x0_Les Corts', 'x0_Nou Barris', 'x0_Sant Andreu', 'x0_Sant Martí',\n",
       "       'x0_Sants-Montjuïc', 'x0_Sarrià-Sant Gervasi', 'x1_Detached',\n",
       "       'x1_Duplex', 'x1_Flat', 'x1_Penthouse', 'x1_Semi-detached',\n",
       "       'x1_Terraced', 'x2_No', 'x2_Yes', 'x3_exterior', 'x3_interior'],\n",
       "      dtype=object)"
      ]
     },
     "execution_count": 13,
     "metadata": {},
     "output_type": "execute_result"
    }
   ],
   "source": [
    "categ_encode_pipeline.named_transformers_[\"oneH_encoder_branch\"].get_feature_names()"
   ]
  },
  {
   "cell_type": "code",
   "execution_count": 14,
   "metadata": {},
   "outputs": [
    {
     "data": {
      "text/html": [
       "<div>\n",
       "<style scoped>\n",
       "    .dataframe tbody tr th:only-of-type {\n",
       "        vertical-align: middle;\n",
       "    }\n",
       "\n",
       "    .dataframe tbody tr th {\n",
       "        vertical-align: top;\n",
       "    }\n",
       "\n",
       "    .dataframe thead th {\n",
       "        text-align: right;\n",
       "    }\n",
       "</style>\n",
       "<table border=\"1\" class=\"dataframe\">\n",
       "  <thead>\n",
       "    <tr style=\"text-align: right;\">\n",
       "      <th></th>\n",
       "      <th>0</th>\n",
       "      <th>1</th>\n",
       "      <th>2</th>\n",
       "      <th>3</th>\n",
       "      <th>4</th>\n",
       "      <th>5</th>\n",
       "      <th>6</th>\n",
       "      <th>7</th>\n",
       "      <th>8</th>\n",
       "      <th>9</th>\n",
       "      <th>...</th>\n",
       "      <th>11</th>\n",
       "      <th>12</th>\n",
       "      <th>13</th>\n",
       "      <th>14</th>\n",
       "      <th>15</th>\n",
       "      <th>16</th>\n",
       "      <th>17</th>\n",
       "      <th>18</th>\n",
       "      <th>19</th>\n",
       "      <th>20</th>\n",
       "    </tr>\n",
       "  </thead>\n",
       "  <tbody>\n",
       "    <tr>\n",
       "      <th>0</th>\n",
       "      <td>1.0</td>\n",
       "      <td>0.0</td>\n",
       "      <td>1.0</td>\n",
       "      <td>0.0</td>\n",
       "      <td>0.0</td>\n",
       "      <td>0.0</td>\n",
       "      <td>0.0</td>\n",
       "      <td>0.0</td>\n",
       "      <td>0.0</td>\n",
       "      <td>0.0</td>\n",
       "      <td>...</td>\n",
       "      <td>0.0</td>\n",
       "      <td>0.0</td>\n",
       "      <td>1.0</td>\n",
       "      <td>0.0</td>\n",
       "      <td>0.0</td>\n",
       "      <td>0.0</td>\n",
       "      <td>0.0</td>\n",
       "      <td>1.0</td>\n",
       "      <td>1.0</td>\n",
       "      <td>0.0</td>\n",
       "    </tr>\n",
       "    <tr>\n",
       "      <th>1</th>\n",
       "      <td>1.0</td>\n",
       "      <td>0.0</td>\n",
       "      <td>0.0</td>\n",
       "      <td>0.0</td>\n",
       "      <td>0.0</td>\n",
       "      <td>0.0</td>\n",
       "      <td>0.0</td>\n",
       "      <td>0.0</td>\n",
       "      <td>0.0</td>\n",
       "      <td>0.0</td>\n",
       "      <td>...</td>\n",
       "      <td>0.0</td>\n",
       "      <td>0.0</td>\n",
       "      <td>1.0</td>\n",
       "      <td>0.0</td>\n",
       "      <td>0.0</td>\n",
       "      <td>0.0</td>\n",
       "      <td>0.0</td>\n",
       "      <td>1.0</td>\n",
       "      <td>1.0</td>\n",
       "      <td>0.0</td>\n",
       "    </tr>\n",
       "    <tr>\n",
       "      <th>2</th>\n",
       "      <td>1.0</td>\n",
       "      <td>0.0</td>\n",
       "      <td>1.0</td>\n",
       "      <td>0.0</td>\n",
       "      <td>0.0</td>\n",
       "      <td>0.0</td>\n",
       "      <td>0.0</td>\n",
       "      <td>0.0</td>\n",
       "      <td>0.0</td>\n",
       "      <td>0.0</td>\n",
       "      <td>...</td>\n",
       "      <td>0.0</td>\n",
       "      <td>0.0</td>\n",
       "      <td>0.0</td>\n",
       "      <td>1.0</td>\n",
       "      <td>0.0</td>\n",
       "      <td>0.0</td>\n",
       "      <td>0.0</td>\n",
       "      <td>1.0</td>\n",
       "      <td>1.0</td>\n",
       "      <td>0.0</td>\n",
       "    </tr>\n",
       "    <tr>\n",
       "      <th>3</th>\n",
       "      <td>1.0</td>\n",
       "      <td>0.0</td>\n",
       "      <td>1.0</td>\n",
       "      <td>0.0</td>\n",
       "      <td>0.0</td>\n",
       "      <td>0.0</td>\n",
       "      <td>0.0</td>\n",
       "      <td>0.0</td>\n",
       "      <td>0.0</td>\n",
       "      <td>0.0</td>\n",
       "      <td>...</td>\n",
       "      <td>0.0</td>\n",
       "      <td>0.0</td>\n",
       "      <td>1.0</td>\n",
       "      <td>0.0</td>\n",
       "      <td>0.0</td>\n",
       "      <td>0.0</td>\n",
       "      <td>0.0</td>\n",
       "      <td>1.0</td>\n",
       "      <td>1.0</td>\n",
       "      <td>0.0</td>\n",
       "    </tr>\n",
       "    <tr>\n",
       "      <th>4</th>\n",
       "      <td>1.0</td>\n",
       "      <td>0.0</td>\n",
       "      <td>0.0</td>\n",
       "      <td>0.0</td>\n",
       "      <td>1.0</td>\n",
       "      <td>0.0</td>\n",
       "      <td>0.0</td>\n",
       "      <td>0.0</td>\n",
       "      <td>0.0</td>\n",
       "      <td>0.0</td>\n",
       "      <td>...</td>\n",
       "      <td>0.0</td>\n",
       "      <td>0.0</td>\n",
       "      <td>0.0</td>\n",
       "      <td>0.0</td>\n",
       "      <td>0.0</td>\n",
       "      <td>1.0</td>\n",
       "      <td>1.0</td>\n",
       "      <td>0.0</td>\n",
       "      <td>1.0</td>\n",
       "      <td>0.0</td>\n",
       "    </tr>\n",
       "    <tr>\n",
       "      <th>...</th>\n",
       "      <td>...</td>\n",
       "      <td>...</td>\n",
       "      <td>...</td>\n",
       "      <td>...</td>\n",
       "      <td>...</td>\n",
       "      <td>...</td>\n",
       "      <td>...</td>\n",
       "      <td>...</td>\n",
       "      <td>...</td>\n",
       "      <td>...</td>\n",
       "      <td>...</td>\n",
       "      <td>...</td>\n",
       "      <td>...</td>\n",
       "      <td>...</td>\n",
       "      <td>...</td>\n",
       "      <td>...</td>\n",
       "      <td>...</td>\n",
       "      <td>...</td>\n",
       "      <td>...</td>\n",
       "      <td>...</td>\n",
       "      <td>...</td>\n",
       "    </tr>\n",
       "    <tr>\n",
       "      <th>3259</th>\n",
       "      <td>0.0</td>\n",
       "      <td>0.0</td>\n",
       "      <td>0.0</td>\n",
       "      <td>1.0</td>\n",
       "      <td>0.0</td>\n",
       "      <td>0.0</td>\n",
       "      <td>0.0</td>\n",
       "      <td>0.0</td>\n",
       "      <td>0.0</td>\n",
       "      <td>0.0</td>\n",
       "      <td>...</td>\n",
       "      <td>0.0</td>\n",
       "      <td>0.0</td>\n",
       "      <td>1.0</td>\n",
       "      <td>0.0</td>\n",
       "      <td>0.0</td>\n",
       "      <td>0.0</td>\n",
       "      <td>0.0</td>\n",
       "      <td>1.0</td>\n",
       "      <td>1.0</td>\n",
       "      <td>0.0</td>\n",
       "    </tr>\n",
       "    <tr>\n",
       "      <th>3260</th>\n",
       "      <td>0.0</td>\n",
       "      <td>1.0</td>\n",
       "      <td>0.0</td>\n",
       "      <td>0.0</td>\n",
       "      <td>0.0</td>\n",
       "      <td>0.0</td>\n",
       "      <td>0.0</td>\n",
       "      <td>0.0</td>\n",
       "      <td>0.0</td>\n",
       "      <td>0.0</td>\n",
       "      <td>...</td>\n",
       "      <td>0.0</td>\n",
       "      <td>0.0</td>\n",
       "      <td>1.0</td>\n",
       "      <td>0.0</td>\n",
       "      <td>0.0</td>\n",
       "      <td>0.0</td>\n",
       "      <td>1.0</td>\n",
       "      <td>0.0</td>\n",
       "      <td>1.0</td>\n",
       "      <td>0.0</td>\n",
       "    </tr>\n",
       "    <tr>\n",
       "      <th>3261</th>\n",
       "      <td>0.0</td>\n",
       "      <td>0.0</td>\n",
       "      <td>0.0</td>\n",
       "      <td>0.0</td>\n",
       "      <td>0.0</td>\n",
       "      <td>1.0</td>\n",
       "      <td>0.0</td>\n",
       "      <td>0.0</td>\n",
       "      <td>0.0</td>\n",
       "      <td>0.0</td>\n",
       "      <td>...</td>\n",
       "      <td>0.0</td>\n",
       "      <td>0.0</td>\n",
       "      <td>1.0</td>\n",
       "      <td>0.0</td>\n",
       "      <td>0.0</td>\n",
       "      <td>0.0</td>\n",
       "      <td>0.0</td>\n",
       "      <td>1.0</td>\n",
       "      <td>1.0</td>\n",
       "      <td>0.0</td>\n",
       "    </tr>\n",
       "    <tr>\n",
       "      <th>3262</th>\n",
       "      <td>0.0</td>\n",
       "      <td>0.0</td>\n",
       "      <td>0.0</td>\n",
       "      <td>0.0</td>\n",
       "      <td>0.0</td>\n",
       "      <td>0.0</td>\n",
       "      <td>0.0</td>\n",
       "      <td>0.0</td>\n",
       "      <td>1.0</td>\n",
       "      <td>0.0</td>\n",
       "      <td>...</td>\n",
       "      <td>0.0</td>\n",
       "      <td>0.0</td>\n",
       "      <td>1.0</td>\n",
       "      <td>0.0</td>\n",
       "      <td>0.0</td>\n",
       "      <td>0.0</td>\n",
       "      <td>1.0</td>\n",
       "      <td>0.0</td>\n",
       "      <td>1.0</td>\n",
       "      <td>0.0</td>\n",
       "    </tr>\n",
       "    <tr>\n",
       "      <th>3263</th>\n",
       "      <td>0.0</td>\n",
       "      <td>1.0</td>\n",
       "      <td>0.0</td>\n",
       "      <td>0.0</td>\n",
       "      <td>0.0</td>\n",
       "      <td>0.0</td>\n",
       "      <td>0.0</td>\n",
       "      <td>0.0</td>\n",
       "      <td>0.0</td>\n",
       "      <td>0.0</td>\n",
       "      <td>...</td>\n",
       "      <td>0.0</td>\n",
       "      <td>0.0</td>\n",
       "      <td>1.0</td>\n",
       "      <td>0.0</td>\n",
       "      <td>0.0</td>\n",
       "      <td>0.0</td>\n",
       "      <td>1.0</td>\n",
       "      <td>0.0</td>\n",
       "      <td>1.0</td>\n",
       "      <td>0.0</td>\n",
       "    </tr>\n",
       "  </tbody>\n",
       "</table>\n",
       "<p>3264 rows × 21 columns</p>\n",
       "</div>"
      ],
      "text/plain": [
       "       0    1    2    3    4    5    6    7    8    9   ...   11   12   13  \\\n",
       "0     1.0  0.0  1.0  0.0  0.0  0.0  0.0  0.0  0.0  0.0  ...  0.0  0.0  1.0   \n",
       "1     1.0  0.0  0.0  0.0  0.0  0.0  0.0  0.0  0.0  0.0  ...  0.0  0.0  1.0   \n",
       "2     1.0  0.0  1.0  0.0  0.0  0.0  0.0  0.0  0.0  0.0  ...  0.0  0.0  0.0   \n",
       "3     1.0  0.0  1.0  0.0  0.0  0.0  0.0  0.0  0.0  0.0  ...  0.0  0.0  1.0   \n",
       "4     1.0  0.0  0.0  0.0  1.0  0.0  0.0  0.0  0.0  0.0  ...  0.0  0.0  0.0   \n",
       "...   ...  ...  ...  ...  ...  ...  ...  ...  ...  ...  ...  ...  ...  ...   \n",
       "3259  0.0  0.0  0.0  1.0  0.0  0.0  0.0  0.0  0.0  0.0  ...  0.0  0.0  1.0   \n",
       "3260  0.0  1.0  0.0  0.0  0.0  0.0  0.0  0.0  0.0  0.0  ...  0.0  0.0  1.0   \n",
       "3261  0.0  0.0  0.0  0.0  0.0  1.0  0.0  0.0  0.0  0.0  ...  0.0  0.0  1.0   \n",
       "3262  0.0  0.0  0.0  0.0  0.0  0.0  0.0  0.0  1.0  0.0  ...  0.0  0.0  1.0   \n",
       "3263  0.0  1.0  0.0  0.0  0.0  0.0  0.0  0.0  0.0  0.0  ...  0.0  0.0  1.0   \n",
       "\n",
       "       14   15   16   17   18   19   20  \n",
       "0     0.0  0.0  0.0  0.0  1.0  1.0  0.0  \n",
       "1     0.0  0.0  0.0  0.0  1.0  1.0  0.0  \n",
       "2     1.0  0.0  0.0  0.0  1.0  1.0  0.0  \n",
       "3     0.0  0.0  0.0  0.0  1.0  1.0  0.0  \n",
       "4     0.0  0.0  1.0  1.0  0.0  1.0  0.0  \n",
       "...   ...  ...  ...  ...  ...  ...  ...  \n",
       "3259  0.0  0.0  0.0  0.0  1.0  1.0  0.0  \n",
       "3260  0.0  0.0  0.0  1.0  0.0  1.0  0.0  \n",
       "3261  0.0  0.0  0.0  0.0  1.0  1.0  0.0  \n",
       "3262  0.0  0.0  0.0  1.0  0.0  1.0  0.0  \n",
       "3263  0.0  0.0  0.0  1.0  0.0  1.0  0.0  \n",
       "\n",
       "[3264 rows x 21 columns]"
      ]
     },
     "execution_count": 14,
     "metadata": {},
     "output_type": "execute_result"
    }
   ],
   "source": [
    "pd.DataFrame(X_cat.todense())"
   ]
  },
  {
   "cell_type": "markdown",
   "metadata": {},
   "source": [
    "### Pre-processing Numerical Features "
   ]
  },
  {
   "cell_type": "code",
   "execution_count": 15,
   "metadata": {},
   "outputs": [],
   "source": [
    "from sklearn.preprocessing import StandardScaler"
   ]
  },
  {
   "cell_type": "code",
   "execution_count": 16,
   "metadata": {},
   "outputs": [],
   "source": [
    "# Define columns to use\n",
    "num_cols = ['rooms','area_m2']\n",
    "\n",
    "# Initialize StandardScaler\n",
    "std_scaler = StandardScaler()\n",
    "\n",
    "# Assemble the \"Column Transformer\"\n",
    "scaler_pipeline = ColumnTransformer([\n",
    "    ('std_encoder_branch',std_scaler, num_cols)])"
   ]
  },
  {
   "cell_type": "code",
   "execution_count": 17,
   "metadata": {},
   "outputs": [],
   "source": [
    "X_num = scaler_pipeline.fit_transform(df[num_cols])"
   ]
  },
  {
   "cell_type": "code",
   "execution_count": 18,
   "metadata": {},
   "outputs": [
    {
     "data": {
      "text/html": [
       "<div>\n",
       "<style scoped>\n",
       "    .dataframe tbody tr th:only-of-type {\n",
       "        vertical-align: middle;\n",
       "    }\n",
       "\n",
       "    .dataframe tbody tr th {\n",
       "        vertical-align: top;\n",
       "    }\n",
       "\n",
       "    .dataframe thead th {\n",
       "        text-align: right;\n",
       "    }\n",
       "</style>\n",
       "<table border=\"1\" class=\"dataframe\">\n",
       "  <thead>\n",
       "    <tr style=\"text-align: right;\">\n",
       "      <th></th>\n",
       "      <th>0</th>\n",
       "      <th>1</th>\n",
       "    </tr>\n",
       "  </thead>\n",
       "  <tbody>\n",
       "    <tr>\n",
       "      <th>0</th>\n",
       "      <td>-0.120943</td>\n",
       "      <td>2.474634</td>\n",
       "    </tr>\n",
       "    <tr>\n",
       "      <th>1</th>\n",
       "      <td>1.388644</td>\n",
       "      <td>1.903014</td>\n",
       "    </tr>\n",
       "    <tr>\n",
       "      <th>2</th>\n",
       "      <td>-0.875736</td>\n",
       "      <td>-0.340325</td>\n",
       "    </tr>\n",
       "    <tr>\n",
       "      <th>3</th>\n",
       "      <td>-0.875736</td>\n",
       "      <td>0.091087</td>\n",
       "    </tr>\n",
       "    <tr>\n",
       "      <th>4</th>\n",
       "      <td>-0.120943</td>\n",
       "      <td>-0.124619</td>\n",
       "    </tr>\n",
       "    <tr>\n",
       "      <th>...</th>\n",
       "      <td>...</td>\n",
       "      <td>...</td>\n",
       "    </tr>\n",
       "    <tr>\n",
       "      <th>3259</th>\n",
       "      <td>-1.630530</td>\n",
       "      <td>-0.620742</td>\n",
       "    </tr>\n",
       "    <tr>\n",
       "      <th>3260</th>\n",
       "      <td>-0.120943</td>\n",
       "      <td>-0.243257</td>\n",
       "    </tr>\n",
       "    <tr>\n",
       "      <th>3261</th>\n",
       "      <td>0.633851</td>\n",
       "      <td>0.058731</td>\n",
       "    </tr>\n",
       "    <tr>\n",
       "      <th>3262</th>\n",
       "      <td>-0.120943</td>\n",
       "      <td>-0.620742</td>\n",
       "    </tr>\n",
       "    <tr>\n",
       "      <th>3263</th>\n",
       "      <td>0.633851</td>\n",
       "      <td>-0.556030</td>\n",
       "    </tr>\n",
       "  </tbody>\n",
       "</table>\n",
       "<p>3264 rows × 2 columns</p>\n",
       "</div>"
      ],
      "text/plain": [
       "             0         1\n",
       "0    -0.120943  2.474634\n",
       "1     1.388644  1.903014\n",
       "2    -0.875736 -0.340325\n",
       "3    -0.875736  0.091087\n",
       "4    -0.120943 -0.124619\n",
       "...        ...       ...\n",
       "3259 -1.630530 -0.620742\n",
       "3260 -0.120943 -0.243257\n",
       "3261  0.633851  0.058731\n",
       "3262 -0.120943 -0.620742\n",
       "3263  0.633851 -0.556030\n",
       "\n",
       "[3264 rows x 2 columns]"
      ]
     },
     "execution_count": 18,
     "metadata": {},
     "output_type": "execute_result"
    }
   ],
   "source": [
    "pd.DataFrame(X_num)"
   ]
  },
  {
   "cell_type": "markdown",
   "metadata": {},
   "source": [
    "### Assamble Pipeline (Categorical & Numerical)"
   ]
  },
  {
   "cell_type": "code",
   "execution_count": 19,
   "metadata": {},
   "outputs": [],
   "source": [
    "from sklearn.pipeline import Pipeline"
   ]
  },
  {
   "cell_type": "code",
   "execution_count": 20,
   "metadata": {},
   "outputs": [
    {
     "data": {
      "text/plain": [
       "ColumnTransformer(transformers=[('categ_pipe',\n",
       "                                 ColumnTransformer(transformers=[('ord_encoder_branch',\n",
       "                                                                  OrdinalEncoder(categories=[['needs '\n",
       "                                                                                              'refurb',\n",
       "                                                                                              'good '\n",
       "                                                                                              'condition',\n",
       "                                                                                              'new']]),\n",
       "                                                                  ['condition']),\n",
       "                                                                 ('oneH_encoder_branch',\n",
       "                                                                  OneHotEncoder(handle_unknown='ignore'),\n",
       "                                                                  ['district',\n",
       "                                                                   'type',\n",
       "                                                                   'lift',\n",
       "                                                                   'views'])]),\n",
       "                                 ['condition', 'district', 'type', 'lift',\n",
       "                                  'views']),\n",
       "                                ('scaler',\n",
       "                                 ColumnTransformer(transformers=[('std_encoder_branch',\n",
       "                                                                  StandardScaler(),\n",
       "                                                                  ['rooms',\n",
       "                                                                   'area_m2'])]),\n",
       "                                 ['rooms', 'area_m2'])])"
      ]
     },
     "execution_count": 20,
     "metadata": {},
     "output_type": "execute_result"
    }
   ],
   "source": [
    "preproc_pipeline = ColumnTransformer([\n",
    "    ('categ_pipe',categ_encode_pipeline, categ_cols),\n",
    "    ('scaler', scaler_pipeline, num_cols)\n",
    "])\n",
    "preproc_pipeline"
   ]
  },
  {
   "cell_type": "markdown",
   "metadata": {},
   "source": [
    "### Split Data"
   ]
  },
  {
   "cell_type": "code",
   "execution_count": 21,
   "metadata": {},
   "outputs": [],
   "source": [
    "from sklearn.model_selection import train_test_split"
   ]
  },
  {
   "cell_type": "code",
   "execution_count": 22,
   "metadata": {},
   "outputs": [],
   "source": [
    "X_train, X_test, y_train, y_test = train_test_split(X, y, test_size=0.1, random_state=123)"
   ]
  },
  {
   "cell_type": "markdown",
   "metadata": {},
   "source": [
    "### Importing modules"
   ]
  },
  {
   "cell_type": "code",
   "execution_count": 23,
   "metadata": {},
   "outputs": [],
   "source": [
    "from sklearn.model_selection import GridSearchCV\n",
    "from sklearn.metrics import r2_score\n",
    "from joblib import dump, load\n",
    "from sklearn.metrics import mean_squared_error"
   ]
  },
  {
   "cell_type": "markdown",
   "metadata": {},
   "source": [
    "### Training Models"
   ]
  },
  {
   "cell_type": "markdown",
   "metadata": {},
   "source": [
    "#### KNN"
   ]
  },
  {
   "cell_type": "code",
   "execution_count": 24,
   "metadata": {},
   "outputs": [],
   "source": [
    "from sklearn.neighbors import KNeighborsRegressor"
   ]
  },
  {
   "cell_type": "code",
   "execution_count": 34,
   "metadata": {},
   "outputs": [],
   "source": [
    "full_pipeline = Pipeline([\n",
    "    ('preproc_pipeline',preproc_pipeline),\n",
    "    ('knn_model',KNeighborsRegressor())\n",
    "])"
   ]
  },
  {
   "cell_type": "code",
   "execution_count": 35,
   "metadata": {},
   "outputs": [],
   "source": [
    "full_pipeline.fit(X_train,y_train)\n",
    "preds = full_pipeline.predict(X_train)"
   ]
  },
  {
   "cell_type": "code",
   "execution_count": 36,
   "metadata": {},
   "outputs": [
    {
     "data": {
      "text/plain": [
       "0.7691395282239702"
      ]
     },
     "execution_count": 36,
     "metadata": {},
     "output_type": "execute_result"
    }
   ],
   "source": [
    "r2_score(preds,y_train)"
   ]
  },
  {
   "cell_type": "code",
   "execution_count": 79,
   "metadata": {},
   "outputs": [],
   "source": [
    "### Applying cross-validation - defining grid\n",
    "grid = {\n",
    "    \"knn_model__n_neighbors\" : [7,9,11],\n",
    "    \"knn_model__weights\" : ['uniform','distance'],\n",
    "    \"knn_model__leaf_size\" : [10,20],\n",
    "    \"knn_model__p\" : [1,2]\n",
    "}"
   ]
  },
  {
   "cell_type": "code",
   "execution_count": 80,
   "metadata": {},
   "outputs": [],
   "source": [
    "neigh_search = GridSearchCV(full_pipeline, param_grid = grid, scoring='r2', cv=10)"
   ]
  },
  {
   "cell_type": "code",
   "execution_count": 81,
   "metadata": {},
   "outputs": [
    {
     "data": {
      "text/plain": [
       "GridSearchCV(cv=10,\n",
       "             estimator=Pipeline(steps=[('preproc pipeline',\n",
       "                                        ColumnTransformer(transformers=[('categ_pipe',\n",
       "                                                                         ColumnTransformer(transformers=[('ord_encoder_branch',\n",
       "                                                                                                          OrdinalEncoder(categories=[['needs '\n",
       "                                                                                                                                      'refurb',\n",
       "                                                                                                                                      'good '\n",
       "                                                                                                                                      'condition',\n",
       "                                                                                                                                      'new']]),\n",
       "                                                                                                          ['condition']),\n",
       "                                                                                                         ('oneH_encoder_branch',\n",
       "                                                                                                          OneHotEncoder(handle_unknown='ignore'),\n",
       "                                                                                                          ['district',\n",
       "                                                                                                           'type',\n",
       "                                                                                                           'lift',\n",
       "                                                                                                           'views'])]),...\n",
       "                                                                          'district',\n",
       "                                                                          'type',\n",
       "                                                                          'lift',\n",
       "                                                                          'views']),\n",
       "                                                                        ('scaler',\n",
       "                                                                         ColumnTransformer(transformers=[('std_encoder_branch',\n",
       "                                                                                                          StandardScaler(),\n",
       "                                                                                                          ['rooms',\n",
       "                                                                                                           'area_m2'])]),\n",
       "                                                                         ['rooms',\n",
       "                                                                          'area_m2'])])),\n",
       "                                       ('knn_model', KNeighborsRegressor())]),\n",
       "             param_grid={'knn_model__leaf_size': [10, 20],\n",
       "                         'knn_model__n_neighbors': [7, 9, 11],\n",
       "                         'knn_model__p': [1, 2],\n",
       "                         'knn_model__weights': ['uniform', 'distance']},\n",
       "             scoring='r2')"
      ]
     },
     "execution_count": 81,
     "metadata": {},
     "output_type": "execute_result"
    }
   ],
   "source": [
    "neigh_search.fit(X_train,y_train)"
   ]
  },
  {
   "cell_type": "code",
   "execution_count": 82,
   "metadata": {},
   "outputs": [
    {
     "data": {
      "text/plain": [
       "{'knn_model__leaf_size': 10,\n",
       " 'knn_model__n_neighbors': 11,\n",
       " 'knn_model__p': 2,\n",
       " 'knn_model__weights': 'distance'}"
      ]
     },
     "execution_count": 82,
     "metadata": {},
     "output_type": "execute_result"
    }
   ],
   "source": [
    "neigh_search.best_params_"
   ]
  },
  {
   "cell_type": "code",
   "execution_count": 86,
   "metadata": {},
   "outputs": [
    {
     "data": {
      "text/plain": [
       "0.753299354030676"
      ]
     },
     "execution_count": 86,
     "metadata": {},
     "output_type": "execute_result"
    }
   ],
   "source": [
    "neigh_search.best_score_"
   ]
  },
  {
   "cell_type": "code",
   "execution_count": 99,
   "metadata": {},
   "outputs": [
    {
     "data": {
      "text/plain": [
       "0.4742401698376114"
      ]
     },
     "execution_count": 99,
     "metadata": {},
     "output_type": "execute_result"
    }
   ],
   "source": [
    "preds = neigh_search.predict(X_test)\n",
    "r2_score(preds,y_test)"
   ]
  },
  {
   "cell_type": "markdown",
   "metadata": {},
   "source": [
    "#### Saving model "
   ]
  },
  {
   "cell_type": "code",
   "execution_count": 88,
   "metadata": {},
   "outputs": [
    {
     "data": {
      "text/plain": [
       "['pickle//knn_model.pkl']"
      ]
     },
     "execution_count": 88,
     "metadata": {},
     "output_type": "execute_result"
    }
   ],
   "source": [
    "dump(neigh_search, \"pickle//knn_model.pkl\")"
   ]
  },
  {
   "cell_type": "markdown",
   "metadata": {},
   "source": [
    "---"
   ]
  },
  {
   "cell_type": "markdown",
   "metadata": {},
   "source": [
    "#### Linear Regression"
   ]
  },
  {
   "cell_type": "code",
   "execution_count": 25,
   "metadata": {},
   "outputs": [],
   "source": [
    "from sklearn.linear_model import LinearRegression"
   ]
  },
  {
   "cell_type": "code",
   "execution_count": 101,
   "metadata": {},
   "outputs": [],
   "source": [
    "full_pipeline = Pipeline([\n",
    "    ('preproc_pipeline',preproc_pipeline),\n",
    "    ('lr_model',LinearRegression())\n",
    "])"
   ]
  },
  {
   "cell_type": "code",
   "execution_count": 102,
   "metadata": {},
   "outputs": [],
   "source": [
    "full_pipeline.fit(X_train,y_train)\n",
    "preds = full_pipeline.predict(X_train)"
   ]
  },
  {
   "cell_type": "code",
   "execution_count": 103,
   "metadata": {},
   "outputs": [
    {
     "data": {
      "text/plain": [
       "0.650824269358315"
      ]
     },
     "execution_count": 103,
     "metadata": {},
     "output_type": "execute_result"
    }
   ],
   "source": [
    "r2_score(preds,y_train)"
   ]
  },
  {
   "cell_type": "code",
   "execution_count": 104,
   "metadata": {},
   "outputs": [],
   "source": [
    "### Applying cross-validation - defining grid\n",
    "grid = {\n",
    "    \"lr_model__fit_intercept\" : [True,False],\n",
    "    \"lr_model__normalize\" : [True,False],\n",
    "    \"lr_model__copy_X\" : [True,False],\n",
    "    \"lr_model__n_jobs\" : [2,5,7,10]\n",
    "}"
   ]
  },
  {
   "cell_type": "code",
   "execution_count": 105,
   "metadata": {},
   "outputs": [],
   "source": [
    "lin_search = GridSearchCV(full_pipeline, param_grid = grid, scoring='r2', cv=10)"
   ]
  },
  {
   "cell_type": "code",
   "execution_count": 107,
   "metadata": {},
   "outputs": [
    {
     "data": {
      "text/plain": [
       "GridSearchCV(cv=10,\n",
       "             estimator=Pipeline(steps=[('preproc pipeline',\n",
       "                                        ColumnTransformer(transformers=[('categ_pipe',\n",
       "                                                                         ColumnTransformer(transformers=[('ord_encoder_branch',\n",
       "                                                                                                          OrdinalEncoder(categories=[['needs '\n",
       "                                                                                                                                      'refurb',\n",
       "                                                                                                                                      'good '\n",
       "                                                                                                                                      'condition',\n",
       "                                                                                                                                      'new']]),\n",
       "                                                                                                          ['condition']),\n",
       "                                                                                                         ('oneH_encoder_branch',\n",
       "                                                                                                          OneHotEncoder(handle_unknown='ignore'),\n",
       "                                                                                                          ['district',\n",
       "                                                                                                           'type',\n",
       "                                                                                                           'lift',\n",
       "                                                                                                           'views'])]),...\n",
       "                                                                          'district',\n",
       "                                                                          'type',\n",
       "                                                                          'lift',\n",
       "                                                                          'views']),\n",
       "                                                                        ('scaler',\n",
       "                                                                         ColumnTransformer(transformers=[('std_encoder_branch',\n",
       "                                                                                                          StandardScaler(),\n",
       "                                                                                                          ['rooms',\n",
       "                                                                                                           'area_m2'])]),\n",
       "                                                                         ['rooms',\n",
       "                                                                          'area_m2'])])),\n",
       "                                       ('lr_model', LinearRegression())]),\n",
       "             param_grid={'lr_model__copy_X': [True, False],\n",
       "                         'lr_model__fit_intercept': [True, False],\n",
       "                         'lr_model__n_jobs': [2, 5, 7, 10],\n",
       "                         'lr_model__normalize': [True, False]},\n",
       "             scoring='r2')"
      ]
     },
     "execution_count": 107,
     "metadata": {},
     "output_type": "execute_result"
    }
   ],
   "source": [
    "lin_search.fit(X_train,y_train)"
   ]
  },
  {
   "cell_type": "code",
   "execution_count": 108,
   "metadata": {},
   "outputs": [
    {
     "data": {
      "text/plain": [
       "0.6508242693439383"
      ]
     },
     "execution_count": 108,
     "metadata": {},
     "output_type": "execute_result"
    }
   ],
   "source": [
    "preds = lin_search.predict(X_train)\n",
    "r2_score(preds,y_train)"
   ]
  },
  {
   "cell_type": "code",
   "execution_count": 109,
   "metadata": {},
   "outputs": [
    {
     "data": {
      "text/plain": [
       "0.7472557274687818"
      ]
     },
     "execution_count": 109,
     "metadata": {},
     "output_type": "execute_result"
    }
   ],
   "source": [
    "lin_search.best_score_"
   ]
  },
  {
   "cell_type": "code",
   "execution_count": 110,
   "metadata": {},
   "outputs": [
    {
     "data": {
      "text/plain": [
       "0.4821304629098919"
      ]
     },
     "execution_count": 110,
     "metadata": {},
     "output_type": "execute_result"
    }
   ],
   "source": [
    "preds = lin_search.predict(X_test)\n",
    "r2_score(preds,y_test)"
   ]
  },
  {
   "cell_type": "markdown",
   "metadata": {},
   "source": [
    "#### Saving model "
   ]
  },
  {
   "cell_type": "code",
   "execution_count": 111,
   "metadata": {},
   "outputs": [
    {
     "data": {
      "text/plain": [
       "['pickle//lr_model.pkl']"
      ]
     },
     "execution_count": 111,
     "metadata": {},
     "output_type": "execute_result"
    }
   ],
   "source": [
    "dump(lin_search, \"pickle//lr_model.pkl\")"
   ]
  },
  {
   "cell_type": "markdown",
   "metadata": {},
   "source": [
    "---"
   ]
  },
  {
   "cell_type": "markdown",
   "metadata": {},
   "source": [
    "### Randon Forest"
   ]
  },
  {
   "cell_type": "code",
   "execution_count": 25,
   "metadata": {},
   "outputs": [],
   "source": [
    "from sklearn.ensemble import RandomForestRegressor"
   ]
  },
  {
   "cell_type": "code",
   "execution_count": 32,
   "metadata": {},
   "outputs": [],
   "source": [
    "full_pipeline = Pipeline([\n",
    "    ('preproc_pipeline',preproc_pipeline),\n",
    "    ('rand_forest_model',RandomForestRegressor())\n",
    "])"
   ]
  },
  {
   "cell_type": "code",
   "execution_count": 32,
   "metadata": {},
   "outputs": [],
   "source": [
    "full_pipeline.fit(X_train,y_train)\n",
    "preds = full_pipeline.predict(X_train)"
   ]
  },
  {
   "cell_type": "code",
   "execution_count": 33,
   "metadata": {},
   "outputs": [
    {
     "data": {
      "text/plain": [
       "0.9546131653013683"
      ]
     },
     "execution_count": 33,
     "metadata": {},
     "output_type": "execute_result"
    }
   ],
   "source": [
    "r2_score(y_train,preds)"
   ]
  },
  {
   "cell_type": "code",
   "execution_count": 34,
   "metadata": {},
   "outputs": [],
   "source": [
    "### Applying cross-validation - defining grid\n",
    "grid = {\n",
    "    \"rand_forest_model__n_estimators\" : [150,300],\n",
    "    \"rand_forest_model__criterion\" : ['mae'],\n",
    "    \"rand_forest_model__min_samples_split\" : [2,4],\n",
    "    \"rand_forest_model__min_samples_leaf\" : [1]\n",
    "}"
   ]
  },
  {
   "cell_type": "code",
   "execution_count": 35,
   "metadata": {},
   "outputs": [],
   "source": [
    "rand_search = GridSearchCV(full_pipeline, param_grid = grid, scoring='r2', cv=5, n_jobs = - 1)"
   ]
  },
  {
   "cell_type": "code",
   "execution_count": 36,
   "metadata": {},
   "outputs": [
    {
     "data": {
      "text/plain": [
       "GridSearchCV(cv=5,\n",
       "             estimator=Pipeline(steps=[('preproc pipeline',\n",
       "                                        ColumnTransformer(transformers=[('categ_pipe',\n",
       "                                                                         ColumnTransformer(transformers=[('ord_encoder_branch',\n",
       "                                                                                                          OrdinalEncoder(categories=[['needs '\n",
       "                                                                                                                                      'refurb',\n",
       "                                                                                                                                      'good '\n",
       "                                                                                                                                      'condition',\n",
       "                                                                                                                                      'new']]),\n",
       "                                                                                                          ['condition']),\n",
       "                                                                                                         ('oneH_encoder_branch',\n",
       "                                                                                                          OneHotEncoder(handle_unknown='ignore'),\n",
       "                                                                                                          ['district',\n",
       "                                                                                                           'type',\n",
       "                                                                                                           'lift',\n",
       "                                                                                                           'views'])]),\n",
       "                                                                         [...\n",
       "                                                                         ColumnTransformer(transformers=[('std_encoder_branch',\n",
       "                                                                                                          StandardScaler(),\n",
       "                                                                                                          ['rooms',\n",
       "                                                                                                           'area_m2'])]),\n",
       "                                                                         ['rooms',\n",
       "                                                                          'area_m2'])])),\n",
       "                                       ('rand_forest_model',\n",
       "                                        RandomForestRegressor())]),\n",
       "             n_jobs=-1,\n",
       "             param_grid={'rand_forest_model__criterion': ['mae'],\n",
       "                         'rand_forest_model__min_samples_leaf': [1],\n",
       "                         'rand_forest_model__min_samples_split': [2, 4],\n",
       "                         'rand_forest_model__n_estimators': [150, 300]},\n",
       "             scoring='r2')"
      ]
     },
     "execution_count": 36,
     "metadata": {},
     "output_type": "execute_result"
    }
   ],
   "source": [
    "rand_search.fit(X_train,y_train)"
   ]
  },
  {
   "cell_type": "code",
   "execution_count": 37,
   "metadata": {},
   "outputs": [
    {
     "data": {
      "text/plain": [
       "{'rand_forest_model__criterion': 'mae',\n",
       " 'rand_forest_model__min_samples_leaf': 1,\n",
       " 'rand_forest_model__min_samples_split': 2,\n",
       " 'rand_forest_model__n_estimators': 150}"
      ]
     },
     "execution_count": 37,
     "metadata": {},
     "output_type": "execute_result"
    }
   ],
   "source": [
    "rand_search.best_params_"
   ]
  },
  {
   "cell_type": "code",
   "execution_count": 38,
   "metadata": {},
   "outputs": [
    {
     "data": {
      "text/plain": [
       "0.7150730361241628"
      ]
     },
     "execution_count": 38,
     "metadata": {},
     "output_type": "execute_result"
    }
   ],
   "source": [
    "rand_search.best_score_"
   ]
  },
  {
   "cell_type": "code",
   "execution_count": 39,
   "metadata": {},
   "outputs": [
    {
     "data": {
      "text/plain": [
       "0.7674836733836993"
      ]
     },
     "execution_count": 39,
     "metadata": {},
     "output_type": "execute_result"
    }
   ],
   "source": [
    "preds = rand_search.predict(X_test)\n",
    "r2_score(y_test,preds)"
   ]
  },
  {
   "cell_type": "code",
   "execution_count": 52,
   "metadata": {},
   "outputs": [
    {
     "data": {
      "text/plain": [
       "222851.2545919803"
      ]
     },
     "execution_count": 52,
     "metadata": {},
     "output_type": "execute_result"
    }
   ],
   "source": [
    "mean_squared_error(y_test,preds, squared=False)"
   ]
  },
  {
   "cell_type": "markdown",
   "metadata": {},
   "source": [
    "#### Saving model "
   ]
  },
  {
   "cell_type": "code",
   "execution_count": 55,
   "metadata": {},
   "outputs": [
    {
     "data": {
      "text/plain": [
       "['pickle//rand_forest_model.pkl']"
      ]
     },
     "execution_count": 55,
     "metadata": {},
     "output_type": "execute_result"
    }
   ],
   "source": [
    "dump(rand_search, \"pickle//rand_forest_model.pkl\")"
   ]
  },
  {
   "cell_type": "markdown",
   "metadata": {},
   "source": [
    "---"
   ]
  },
  {
   "cell_type": "markdown",
   "metadata": {},
   "source": [
    "### Support Vector Regression"
   ]
  },
  {
   "cell_type": "code",
   "execution_count": 27,
   "metadata": {},
   "outputs": [],
   "source": [
    "from sklearn.svm import SVR"
   ]
  },
  {
   "cell_type": "code",
   "execution_count": 126,
   "metadata": {},
   "outputs": [],
   "source": [
    "full_pipeline = Pipeline([\n",
    "    ('preproc_pipeline',preproc_pipeline),\n",
    "    ('svr_model',SVR())\n",
    "])"
   ]
  },
  {
   "cell_type": "code",
   "execution_count": 127,
   "metadata": {},
   "outputs": [],
   "source": [
    "full_pipeline.fit(X_train,y_train)\n",
    "preds = full_pipeline.predict(X_train)"
   ]
  },
  {
   "cell_type": "code",
   "execution_count": 128,
   "metadata": {},
   "outputs": [
    {
     "data": {
      "text/plain": [
       "-0.07552626009698149"
      ]
     },
     "execution_count": 128,
     "metadata": {},
     "output_type": "execute_result"
    }
   ],
   "source": [
    "r2_score(y_train,preds)"
   ]
  },
  {
   "cell_type": "code",
   "execution_count": 129,
   "metadata": {},
   "outputs": [],
   "source": [
    "### Applying cross-validation - defining grid\n",
    "grid = {\n",
    "    \"svr_model__gamma\" : ['scale'],\n",
    "    \"svr_model__coef0\" : [0],\n",
    "    \"svr_model__C\" : [100000000]\n",
    "}"
   ]
  },
  {
   "cell_type": "code",
   "execution_count": 32,
   "metadata": {},
   "outputs": [],
   "source": [
    "svr_search = GridSearchCV(full_pipeline, param_grid = grid, scoring='r2', cv=10)"
   ]
  },
  {
   "cell_type": "code",
   "execution_count": 33,
   "metadata": {},
   "outputs": [
    {
     "data": {
      "text/plain": [
       "GridSearchCV(cv=10,\n",
       "             estimator=Pipeline(steps=[('preproc pipeline',\n",
       "                                        ColumnTransformer(transformers=[('categ_pipe',\n",
       "                                                                         ColumnTransformer(transformers=[('ord_encoder_branch',\n",
       "                                                                                                          OrdinalEncoder(categories=[['needs '\n",
       "                                                                                                                                      'refurb',\n",
       "                                                                                                                                      'good '\n",
       "                                                                                                                                      'condition',\n",
       "                                                                                                                                      'new']]),\n",
       "                                                                                                          ['condition']),\n",
       "                                                                                                         ('oneH_encoder_branch',\n",
       "                                                                                                          OneHotEncoder(handle_unknown='ignore'),\n",
       "                                                                                                          ['district',\n",
       "                                                                                                           'type',\n",
       "                                                                                                           'lift',\n",
       "                                                                                                           'views'])]),\n",
       "                                                                         ['condition',\n",
       "                                                                          'district',\n",
       "                                                                          'type',\n",
       "                                                                          'lift',\n",
       "                                                                          'views']),\n",
       "                                                                        ('scaler',\n",
       "                                                                         ColumnTransformer(transformers=[('std_encoder_branch',\n",
       "                                                                                                          StandardScaler(),\n",
       "                                                                                                          ['rooms',\n",
       "                                                                                                           'area_m2'])]),\n",
       "                                                                         ['rooms',\n",
       "                                                                          'area_m2'])])),\n",
       "                                       ('svr_model', SVR())]),\n",
       "             param_grid={'svr_model__C': [100000000], 'svr_model__coef0': [0],\n",
       "                         'svr_model__gamma': ['scale']},\n",
       "             scoring='r2')"
      ]
     },
     "execution_count": 33,
     "metadata": {},
     "output_type": "execute_result"
    }
   ],
   "source": [
    "svr_search.fit(X_train,y_train)"
   ]
  },
  {
   "cell_type": "code",
   "execution_count": 47,
   "metadata": {},
   "outputs": [
    {
     "data": {
      "text/plain": [
       "{'svr_model__C': 100000000, 'svr_model__coef0': 0, 'svr_model__gamma': 'scale'}"
      ]
     },
     "execution_count": 47,
     "metadata": {},
     "output_type": "execute_result"
    }
   ],
   "source": [
    "svr_search.best_params_"
   ]
  },
  {
   "cell_type": "code",
   "execution_count": 131,
   "metadata": {},
   "outputs": [
    {
     "data": {
      "text/plain": [
       "0.679717211847847"
      ]
     },
     "execution_count": 131,
     "metadata": {},
     "output_type": "execute_result"
    }
   ],
   "source": [
    "svr_search.best_score_"
   ]
  },
  {
   "cell_type": "code",
   "execution_count": 36,
   "metadata": {},
   "outputs": [
    {
     "data": {
      "text/plain": [
       "0.6419101280685697"
      ]
     },
     "execution_count": 36,
     "metadata": {},
     "output_type": "execute_result"
    }
   ],
   "source": [
    "preds = svr_search.predict(X_test)\n",
    "r2_score(y_test,preds)"
   ]
  },
  {
   "cell_type": "markdown",
   "metadata": {},
   "source": [
    "#### Saving model \n"
   ]
  },
  {
   "cell_type": "code",
   "execution_count": 132,
   "metadata": {},
   "outputs": [
    {
     "data": {
      "text/plain": [
       "['pickle//svr_model.pkl']"
      ]
     },
     "execution_count": 132,
     "metadata": {},
     "output_type": "execute_result"
    }
   ],
   "source": [
    "dump(svr_search, \"pickle//svr_model.pkl\")"
   ]
  },
  {
   "cell_type": "markdown",
   "metadata": {},
   "source": [
    "---"
   ]
  },
  {
   "cell_type": "markdown",
   "metadata": {},
   "source": [
    "### XGB Regressor"
   ]
  },
  {
   "cell_type": "code",
   "execution_count": 28,
   "metadata": {},
   "outputs": [],
   "source": [
    "from xgboost import XGBRegressor\n",
    "from sklearn.model_selection import cross_val_score"
   ]
  },
  {
   "cell_type": "code",
   "execution_count": 92,
   "metadata": {},
   "outputs": [],
   "source": [
    "full_pipeline = Pipeline([\n",
    "    ('preproc_pipeline',preproc_pipeline),\n",
    "    ('xgb_regressor',XGBRegressor())\n",
    "])"
   ]
  },
  {
   "cell_type": "code",
   "execution_count": 84,
   "metadata": {},
   "outputs": [
    {
     "data": {
      "text/plain": [
       "Pipeline(steps=[('preproc_pipeline',\n",
       "                 ColumnTransformer(transformers=[('categ_pipe',\n",
       "                                                  ColumnTransformer(transformers=[('ord_encoder_branch',\n",
       "                                                                                   OrdinalEncoder(categories=[['needs '\n",
       "                                                                                                               'refurb',\n",
       "                                                                                                               'good '\n",
       "                                                                                                               'condition',\n",
       "                                                                                                               'new']]),\n",
       "                                                                                   ['condition']),\n",
       "                                                                                  ('oneH_encoder_branch',\n",
       "                                                                                   OneHotEncoder(handle_unknown='ignore'),\n",
       "                                                                                   ['district',\n",
       "                                                                                    'type',\n",
       "                                                                                    'lift',\n",
       "                                                                                    'views'])]),\n",
       "                                                  ['condition', 'district',\n",
       "                                                   'typ...\n",
       "                              colsample_bytree=1, gamma=0, gpu_id=-1,\n",
       "                              importance_type='gain',\n",
       "                              interaction_constraints='',\n",
       "                              learning_rate=0.300000012, max_delta_step=0,\n",
       "                              max_depth=6, min_child_weight=1, missing=nan,\n",
       "                              monotone_constraints='()', n_estimators=100,\n",
       "                              n_jobs=8, num_parallel_tree=1, random_state=0,\n",
       "                              reg_alpha=0, reg_lambda=1, scale_pos_weight=1,\n",
       "                              subsample=1, tree_method='exact',\n",
       "                              validate_parameters=1, verbosity=None))])"
      ]
     },
     "execution_count": 84,
     "metadata": {},
     "output_type": "execute_result"
    }
   ],
   "source": [
    "# Training the model\n",
    "full_pipeline.fit(X_train,y_train)"
   ]
  },
  {
   "cell_type": "code",
   "execution_count": 85,
   "metadata": {},
   "outputs": [
    {
     "data": {
      "text/plain": [
       "0.9785966826203286"
      ]
     },
     "execution_count": 85,
     "metadata": {},
     "output_type": "execute_result"
    }
   ],
   "source": [
    "# training score\n",
    "score = full_pipeline.score(X_train,y_train)\n",
    "score"
   ]
  },
  {
   "cell_type": "code",
   "execution_count": 86,
   "metadata": {},
   "outputs": [],
   "source": [
    "# Applying cross validation\n",
    "cv_score = cross_val_score(full_pipeline,X_train,y_train, cv=10)"
   ]
  },
  {
   "cell_type": "code",
   "execution_count": 87,
   "metadata": {},
   "outputs": [
    {
     "data": {
      "text/plain": [
       "array([0.83364649, 0.54174844, 0.67251659, 0.74747307, 0.72088575,\n",
       "       0.76166402, 0.78840383, 0.53951696, 0.16149994, 0.76129837])"
      ]
     },
     "execution_count": 87,
     "metadata": {},
     "output_type": "execute_result"
    }
   ],
   "source": [
    "# Cross validation score\n",
    "cv_score"
   ]
  },
  {
   "cell_type": "code",
   "execution_count": 88,
   "metadata": {},
   "outputs": [
    {
     "data": {
      "text/plain": [
       "0.8336464867424113"
      ]
     },
     "execution_count": 88,
     "metadata": {},
     "output_type": "execute_result"
    }
   ],
   "source": [
    "# Mean score\n",
    "cv_score.max()"
   ]
  },
  {
   "cell_type": "code",
   "execution_count": 89,
   "metadata": {},
   "outputs": [
    {
     "data": {
      "text/plain": [
       "0.7358826972262815"
      ]
     },
     "execution_count": 89,
     "metadata": {},
     "output_type": "execute_result"
    }
   ],
   "source": [
    "# Checking test predictions\n",
    "preds = full_pipeline.predict(X_test)\n",
    "r2_score(y_test,preds)"
   ]
  },
  {
   "cell_type": "code",
   "execution_count": 126,
   "metadata": {},
   "outputs": [],
   "source": [
    "# Defining Grid\n",
    "grid = {\n",
    "    \"xgb_regressor__max_depth\" : [2,6,8,10],\n",
    "    \"xgb_regressor__n_estimators\" : [12,25,50,100],\n",
    "    \"xgb_regressor__min_child_weight\" : [1,2,3],\n",
    "    \"xgb_regressor__num_parallel_tree\" : [1,2,3],\n",
    "    \"xgb_regressor__scale_pos_weight\" : [1,2],\n",
    "    \"xgb_regressor__tree_method\" : ['auto','exact']\n",
    "}"
   ]
  },
  {
   "cell_type": "code",
   "execution_count": 127,
   "metadata": {},
   "outputs": [],
   "source": [
    "xgb_search = GridSearchCV(full_pipeline, param_grid = grid, scoring='r2', cv=10)"
   ]
  },
  {
   "cell_type": "code",
   "execution_count": 128,
   "metadata": {},
   "outputs": [
    {
     "data": {
      "text/plain": [
       "GridSearchCV(cv=10,\n",
       "             estimator=Pipeline(steps=[('preproc_pipeline',\n",
       "                                        ColumnTransformer(transformers=[('categ_pipe',\n",
       "                                                                         ColumnTransformer(transformers=[('ord_encoder_branch',\n",
       "                                                                                                          OrdinalEncoder(categories=[['needs '\n",
       "                                                                                                                                      'refurb',\n",
       "                                                                                                                                      'good '\n",
       "                                                                                                                                      'condition',\n",
       "                                                                                                                                      'new']]),\n",
       "                                                                                                          ['condition']),\n",
       "                                                                                                         ('oneH_encoder_branch',\n",
       "                                                                                                          OneHotEncoder(handle_unknown='ignore'),\n",
       "                                                                                                          ['district',\n",
       "                                                                                                           'type',\n",
       "                                                                                                           'lift',\n",
       "                                                                                                           'views'])])...\n",
       "                                                     subsample=None,\n",
       "                                                     tree_method=None,\n",
       "                                                     validate_parameters=None,\n",
       "                                                     verbosity=None))]),\n",
       "             param_grid={'xgb_regressor__max_depth': [2, 6, 8, 10],\n",
       "                         'xgb_regressor__min_child_weight': [1, 2, 3],\n",
       "                         'xgb_regressor__n_estimators': [12, 25, 50, 100],\n",
       "                         'xgb_regressor__num_parallel_tree': [1, 2, 3],\n",
       "                         'xgb_regressor__scale_pos_weight': [1, 2],\n",
       "                         'xgb_regressor__tree_method': ['auto', 'exact']},\n",
       "             scoring='r2')"
      ]
     },
     "execution_count": 128,
     "metadata": {},
     "output_type": "execute_result"
    }
   ],
   "source": [
    "xgb_search.fit(X_train,y_train)"
   ]
  },
  {
   "cell_type": "code",
   "execution_count": 129,
   "metadata": {},
   "outputs": [
    {
     "data": {
      "text/plain": [
       "{'xgb_regressor__max_depth': 2,\n",
       " 'xgb_regressor__min_child_weight': 1,\n",
       " 'xgb_regressor__n_estimators': 25,\n",
       " 'xgb_regressor__num_parallel_tree': 1,\n",
       " 'xgb_regressor__scale_pos_weight': 1,\n",
       " 'xgb_regressor__tree_method': 'auto'}"
      ]
     },
     "execution_count": 129,
     "metadata": {},
     "output_type": "execute_result"
    }
   ],
   "source": [
    "xgb_search.best_params_"
   ]
  },
  {
   "cell_type": "code",
   "execution_count": 130,
   "metadata": {},
   "outputs": [
    {
     "data": {
      "text/plain": [
       "0.7236830656748825"
      ]
     },
     "execution_count": 130,
     "metadata": {},
     "output_type": "execute_result"
    }
   ],
   "source": [
    "xgb_search.best_score_"
   ]
  },
  {
   "cell_type": "code",
   "execution_count": 131,
   "metadata": {},
   "outputs": [
    {
     "data": {
      "text/plain": [
       "0.7419671847895588"
      ]
     },
     "execution_count": 131,
     "metadata": {},
     "output_type": "execute_result"
    }
   ],
   "source": [
    "preds = xgb_search.predict(X_test)\n",
    "r2_score(y_test,preds)"
   ]
  },
  {
   "cell_type": "code",
   "execution_count": null,
   "metadata": {},
   "outputs": [],
   "source": []
  },
  {
   "cell_type": "markdown",
   "metadata": {},
   "source": [
    "#### Saving Model"
   ]
  },
  {
   "cell_type": "code",
   "execution_count": 132,
   "metadata": {
    "scrolled": true
   },
   "outputs": [
    {
     "data": {
      "text/plain": [
       "['pickle//xgb_model.pkl']"
      ]
     },
     "execution_count": 132,
     "metadata": {},
     "output_type": "execute_result"
    }
   ],
   "source": [
    "dump(xgb_search, \"pickle//xgb_model.pkl\")"
   ]
  },
  {
   "cell_type": "markdown",
   "metadata": {},
   "source": [
    "### Loading Model"
   ]
  },
  {
   "cell_type": "markdown",
   "metadata": {},
   "source": [
    "#### Random Forest Model"
   ]
  },
  {
   "cell_type": "code",
   "execution_count": 26,
   "metadata": {},
   "outputs": [],
   "source": [
    "Rand_model = load(\"models/rand_forest_model.pkl\")"
   ]
  },
  {
   "cell_type": "code",
   "execution_count": 27,
   "metadata": {},
   "outputs": [
    {
     "data": {
      "text/plain": [
       "GridSearchCV(cv=5,\n",
       "             estimator=Pipeline(steps=[('preproc pipeline',\n",
       "                                        ColumnTransformer(transformers=[('categ_pipe',\n",
       "                                                                         ColumnTransformer(transformers=[('ord_encoder_branch',\n",
       "                                                                                                          OrdinalEncoder(categories=[['needs '\n",
       "                                                                                                                                      'refurb',\n",
       "                                                                                                                                      'good '\n",
       "                                                                                                                                      'condition',\n",
       "                                                                                                                                      'new']]),\n",
       "                                                                                                          ['condition']),\n",
       "                                                                                                         ('oneH_encoder_branch',\n",
       "                                                                                                          OneHotEncoder(handle_unknown='ignore'),\n",
       "                                                                                                          ['district',\n",
       "                                                                                                           'type',\n",
       "                                                                                                           'lift',\n",
       "                                                                                                           'views'])]),\n",
       "                                                                         [...\n",
       "                                                                         ColumnTransformer(transformers=[('std_encoder_branch',\n",
       "                                                                                                          StandardScaler(),\n",
       "                                                                                                          ['rooms',\n",
       "                                                                                                           'area_m2'])]),\n",
       "                                                                         ['rooms',\n",
       "                                                                          'area_m2'])])),\n",
       "                                       ('rand_forest_model',\n",
       "                                        RandomForestRegressor())]),\n",
       "             n_jobs=-1,\n",
       "             param_grid={'rand_forest_model__criterion': ['mae'],\n",
       "                         'rand_forest_model__min_samples_leaf': [1],\n",
       "                         'rand_forest_model__min_samples_split': [2, 4],\n",
       "                         'rand_forest_model__n_estimators': [150, 300]},\n",
       "             scoring='r2')"
      ]
     },
     "execution_count": 27,
     "metadata": {},
     "output_type": "execute_result"
    }
   ],
   "source": [
    "Rand_model"
   ]
  },
  {
   "cell_type": "code",
   "execution_count": 28,
   "metadata": {},
   "outputs": [
    {
     "data": {
      "text/plain": [
       "0.7150730361241628"
      ]
     },
     "execution_count": 28,
     "metadata": {},
     "output_type": "execute_result"
    }
   ],
   "source": [
    "Rand_model.best_score_"
   ]
  },
  {
   "cell_type": "markdown",
   "metadata": {},
   "source": [
    "#### XGB Regressor"
   ]
  },
  {
   "cell_type": "code",
   "execution_count": 39,
   "metadata": {},
   "outputs": [],
   "source": [
    "XGB_model = load(\"models/xgb_model.pkl\")"
   ]
  },
  {
   "cell_type": "code",
   "execution_count": 40,
   "metadata": {},
   "outputs": [
    {
     "data": {
      "text/plain": [
       "GridSearchCV(cv=10,\n",
       "             estimator=Pipeline(steps=[('preproc_pipeline',\n",
       "                                        ColumnTransformer(transformers=[('categ_pipe',\n",
       "                                                                         ColumnTransformer(transformers=[('ord_encoder_branch',\n",
       "                                                                                                          OrdinalEncoder(categories=[['needs '\n",
       "                                                                                                                                      'refurb',\n",
       "                                                                                                                                      'good '\n",
       "                                                                                                                                      'condition',\n",
       "                                                                                                                                      'new']]),\n",
       "                                                                                                          ['condition']),\n",
       "                                                                                                         ('oneH_encoder_branch',\n",
       "                                                                                                          OneHotEncoder(handle_unknown='ignore'),\n",
       "                                                                                                          ['district',\n",
       "                                                                                                           'type',\n",
       "                                                                                                           'lift',\n",
       "                                                                                                           'views'])])...\n",
       "                                                     subsample=None,\n",
       "                                                     tree_method=None,\n",
       "                                                     validate_parameters=None,\n",
       "                                                     verbosity=None))]),\n",
       "             param_grid={'xgb_regressor__max_depth': [2, 6, 8, 10],\n",
       "                         'xgb_regressor__min_child_weight': [1, 2, 3],\n",
       "                         'xgb_regressor__n_estimators': [12, 25, 50, 100],\n",
       "                         'xgb_regressor__num_parallel_tree': [1, 2, 3],\n",
       "                         'xgb_regressor__scale_pos_weight': [1, 2],\n",
       "                         'xgb_regressor__tree_method': ['auto', 'exact']},\n",
       "             scoring='r2')"
      ]
     },
     "execution_count": 40,
     "metadata": {},
     "output_type": "execute_result"
    }
   ],
   "source": [
    "XGB_model"
   ]
  },
  {
   "cell_type": "code",
   "execution_count": null,
   "metadata": {},
   "outputs": [],
   "source": []
  }
 ],
 "metadata": {
  "kernelspec": {
   "display_name": "Python 3",
   "language": "python",
   "name": "python3"
  },
  "language_info": {
   "codemirror_mode": {
    "name": "ipython",
    "version": 3
   },
   "file_extension": ".py",
   "mimetype": "text/x-python",
   "name": "python",
   "nbconvert_exporter": "python",
   "pygments_lexer": "ipython3",
   "version": "3.7.6"
  }
 },
 "nbformat": 4,
 "nbformat_minor": 4
}
